{
 "cells": [
  {
   "metadata": {},
   "cell_type": "code",
   "outputs": [],
   "execution_count": null,
   "source": "!git clone https://github.com/A7medM0sta/Transformer_From_Scratch_Translation.git",
   "id": "6fb361f1ead84fa2"
  },
  {
   "metadata": {},
   "cell_type": "code",
   "outputs": [
    {
     "name": "stdout",
     "output_type": "stream",
     "text": [
      "Requirement already satisfied: datasets in /Users/ahmedmostafa/miniconda3/envs/torch/lib/python3.9/site-packages (2.16.1)\n",
      "Requirement already satisfied: filelock in /Users/ahmedmostafa/miniconda3/envs/torch/lib/python3.9/site-packages (from datasets) (3.13.1)\n",
      "Requirement already satisfied: numpy>=1.17 in /Users/ahmedmostafa/miniconda3/envs/torch/lib/python3.9/site-packages (from datasets) (1.26.4)\n",
      "Requirement already satisfied: pyarrow>=8.0.0 in /Users/ahmedmostafa/miniconda3/envs/torch/lib/python3.9/site-packages (from datasets) (10.0.1)\n",
      "Requirement already satisfied: pyarrow-hotfix in /Users/ahmedmostafa/miniconda3/envs/torch/lib/python3.9/site-packages (from datasets) (0.6)\n",
      "Requirement already satisfied: dill<0.3.8,>=0.3.0 in /Users/ahmedmostafa/miniconda3/envs/torch/lib/python3.9/site-packages (from datasets) (0.3.7)\n",
      "Requirement already satisfied: pandas in /Users/ahmedmostafa/miniconda3/envs/torch/lib/python3.9/site-packages (from datasets) (1.2.5)\n",
      "Requirement already satisfied: requests>=2.19.0 in /Users/ahmedmostafa/miniconda3/envs/torch/lib/python3.9/site-packages (from datasets) (2.31.0)\n",
      "Requirement already satisfied: tqdm>=4.62.1 in /Users/ahmedmostafa/miniconda3/envs/torch/lib/python3.9/site-packages (from datasets) (4.66.1)\n",
      "Requirement already satisfied: xxhash in /Users/ahmedmostafa/miniconda3/envs/torch/lib/python3.9/site-packages (from datasets) (3.4.1)\n",
      "Requirement already satisfied: multiprocess in /Users/ahmedmostafa/miniconda3/envs/torch/lib/python3.9/site-packages (from datasets) (0.70.15)\n",
      "Requirement already satisfied: fsspec<=2023.10.0,>=2023.1.0 in /Users/ahmedmostafa/miniconda3/envs/torch/lib/python3.9/site-packages (from fsspec[http]<=2023.10.0,>=2023.1.0->datasets) (2023.10.0)\n",
      "Requirement already satisfied: aiohttp in /Users/ahmedmostafa/miniconda3/envs/torch/lib/python3.9/site-packages (from datasets) (3.9.5)\n",
      "Requirement already satisfied: huggingface-hub>=0.19.4 in /Users/ahmedmostafa/miniconda3/envs/torch/lib/python3.9/site-packages (from datasets) (0.22.2)\n",
      "Requirement already satisfied: packaging in /Users/ahmedmostafa/miniconda3/envs/torch/lib/python3.9/site-packages (from datasets) (23.2)\n",
      "Requirement already satisfied: pyyaml>=5.1 in /Users/ahmedmostafa/miniconda3/envs/torch/lib/python3.9/site-packages (from datasets) (6.0.1)\n",
      "Requirement already satisfied: aiosignal>=1.1.2 in /Users/ahmedmostafa/miniconda3/envs/torch/lib/python3.9/site-packages (from aiohttp->datasets) (1.3.1)\n",
      "Requirement already satisfied: attrs>=17.3.0 in /Users/ahmedmostafa/miniconda3/envs/torch/lib/python3.9/site-packages (from aiohttp->datasets) (23.1.0)\n",
      "Requirement already satisfied: frozenlist>=1.1.1 in /Users/ahmedmostafa/miniconda3/envs/torch/lib/python3.9/site-packages (from aiohttp->datasets) (1.4.1)\n",
      "Requirement already satisfied: multidict<7.0,>=4.5 in /Users/ahmedmostafa/miniconda3/envs/torch/lib/python3.9/site-packages (from aiohttp->datasets) (6.0.5)\n",
      "Requirement already satisfied: yarl<2.0,>=1.0 in /Users/ahmedmostafa/miniconda3/envs/torch/lib/python3.9/site-packages (from aiohttp->datasets) (1.9.4)\n",
      "Requirement already satisfied: async-timeout<5.0,>=4.0 in /Users/ahmedmostafa/miniconda3/envs/torch/lib/python3.9/site-packages (from aiohttp->datasets) (4.0.3)\n",
      "Requirement already satisfied: typing-extensions>=3.7.4.3 in /Users/ahmedmostafa/miniconda3/envs/torch/lib/python3.9/site-packages (from huggingface-hub>=0.19.4->datasets) (4.8.0)\n",
      "Requirement already satisfied: charset-normalizer<4,>=2 in /Users/ahmedmostafa/miniconda3/envs/torch/lib/python3.9/site-packages (from requests>=2.19.0->datasets) (3.3.2)\n",
      "Requirement already satisfied: idna<4,>=2.5 in /Users/ahmedmostafa/miniconda3/envs/torch/lib/python3.9/site-packages (from requests>=2.19.0->datasets) (3.4)\n",
      "Requirement already satisfied: urllib3<3,>=1.21.1 in /Users/ahmedmostafa/miniconda3/envs/torch/lib/python3.9/site-packages (from requests>=2.19.0->datasets) (1.26.18)\n",
      "Requirement already satisfied: certifi>=2017.4.17 in /Users/ahmedmostafa/miniconda3/envs/torch/lib/python3.9/site-packages (from requests>=2.19.0->datasets) (2024.2.2)\n",
      "Requirement already satisfied: python-dateutil>=2.7.3 in /Users/ahmedmostafa/miniconda3/envs/torch/lib/python3.9/site-packages (from pandas->datasets) (2.8.2)\n",
      "Requirement already satisfied: pytz>=2017.3 in /Users/ahmedmostafa/miniconda3/envs/torch/lib/python3.9/site-packages (from pandas->datasets) (2023.3.post1)\n",
      "Requirement already satisfied: six>=1.5 in /Users/ahmedmostafa/miniconda3/envs/torch/lib/python3.9/site-packages (from python-dateutil>=2.7.3->pandas->datasets) (1.16.0)\n",
      "Requirement already satisfied: tokenizers in /Users/ahmedmostafa/miniconda3/envs/torch/lib/python3.9/site-packages (0.19.1)\n",
      "Requirement already satisfied: huggingface-hub<1.0,>=0.16.4 in /Users/ahmedmostafa/miniconda3/envs/torch/lib/python3.9/site-packages (from tokenizers) (0.22.2)\n",
      "Requirement already satisfied: filelock in /Users/ahmedmostafa/miniconda3/envs/torch/lib/python3.9/site-packages (from huggingface-hub<1.0,>=0.16.4->tokenizers) (3.13.1)\n",
      "Requirement already satisfied: fsspec>=2023.5.0 in /Users/ahmedmostafa/miniconda3/envs/torch/lib/python3.9/site-packages (from huggingface-hub<1.0,>=0.16.4->tokenizers) (2023.10.0)\n",
      "Requirement already satisfied: packaging>=20.9 in /Users/ahmedmostafa/miniconda3/envs/torch/lib/python3.9/site-packages (from huggingface-hub<1.0,>=0.16.4->tokenizers) (23.2)\n",
      "Requirement already satisfied: pyyaml>=5.1 in /Users/ahmedmostafa/miniconda3/envs/torch/lib/python3.9/site-packages (from huggingface-hub<1.0,>=0.16.4->tokenizers) (6.0.1)\n",
      "Requirement already satisfied: requests in /Users/ahmedmostafa/miniconda3/envs/torch/lib/python3.9/site-packages (from huggingface-hub<1.0,>=0.16.4->tokenizers) (2.31.0)\n",
      "Requirement already satisfied: tqdm>=4.42.1 in /Users/ahmedmostafa/miniconda3/envs/torch/lib/python3.9/site-packages (from huggingface-hub<1.0,>=0.16.4->tokenizers) (4.66.1)\n",
      "Requirement already satisfied: typing-extensions>=3.7.4.3 in /Users/ahmedmostafa/miniconda3/envs/torch/lib/python3.9/site-packages (from huggingface-hub<1.0,>=0.16.4->tokenizers) (4.8.0)\n",
      "Requirement already satisfied: charset-normalizer<4,>=2 in /Users/ahmedmostafa/miniconda3/envs/torch/lib/python3.9/site-packages (from requests->huggingface-hub<1.0,>=0.16.4->tokenizers) (3.3.2)\n",
      "Requirement already satisfied: idna<4,>=2.5 in /Users/ahmedmostafa/miniconda3/envs/torch/lib/python3.9/site-packages (from requests->huggingface-hub<1.0,>=0.16.4->tokenizers) (3.4)\n",
      "Requirement already satisfied: urllib3<3,>=1.21.1 in /Users/ahmedmostafa/miniconda3/envs/torch/lib/python3.9/site-packages (from requests->huggingface-hub<1.0,>=0.16.4->tokenizers) (1.26.18)\n",
      "Requirement already satisfied: certifi>=2017.4.17 in /Users/ahmedmostafa/miniconda3/envs/torch/lib/python3.9/site-packages (from requests->huggingface-hub<1.0,>=0.16.4->tokenizers) (2024.2.2)\n",
      "Requirement already satisfied: torchmetrics in /Users/ahmedmostafa/miniconda3/envs/torch/lib/python3.9/site-packages (1.3.2)\n",
      "Requirement already satisfied: numpy>1.20.0 in /Users/ahmedmostafa/miniconda3/envs/torch/lib/python3.9/site-packages (from torchmetrics) (1.26.4)\n",
      "Requirement already satisfied: packaging>17.1 in /Users/ahmedmostafa/miniconda3/envs/torch/lib/python3.9/site-packages (from torchmetrics) (23.2)\n",
      "Requirement already satisfied: torch>=1.10.0 in /Users/ahmedmostafa/miniconda3/envs/torch/lib/python3.9/site-packages (from torchmetrics) (2.3.0)\n",
      "Requirement already satisfied: lightning-utilities>=0.8.0 in /Users/ahmedmostafa/miniconda3/envs/torch/lib/python3.9/site-packages (from torchmetrics) (0.11.2)\n",
      "Requirement already satisfied: setuptools in /Users/ahmedmostafa/miniconda3/envs/torch/lib/python3.9/site-packages (from lightning-utilities>=0.8.0->torchmetrics) (68.2.2)\n",
      "Requirement already satisfied: typing-extensions in /Users/ahmedmostafa/miniconda3/envs/torch/lib/python3.9/site-packages (from lightning-utilities>=0.8.0->torchmetrics) (4.8.0)\n",
      "Requirement already satisfied: filelock in /Users/ahmedmostafa/miniconda3/envs/torch/lib/python3.9/site-packages (from torch>=1.10.0->torchmetrics) (3.13.1)\n",
      "Requirement already satisfied: sympy in /Users/ahmedmostafa/miniconda3/envs/torch/lib/python3.9/site-packages (from torch>=1.10.0->torchmetrics) (1.12)\n",
      "Requirement already satisfied: networkx in /Users/ahmedmostafa/miniconda3/envs/torch/lib/python3.9/site-packages (from torch>=1.10.0->torchmetrics) (3.2.1)\n",
      "Requirement already satisfied: jinja2 in /Users/ahmedmostafa/miniconda3/envs/torch/lib/python3.9/site-packages (from torch>=1.10.0->torchmetrics) (3.1.2)\n",
      "Requirement already satisfied: fsspec in /Users/ahmedmostafa/miniconda3/envs/torch/lib/python3.9/site-packages (from torch>=1.10.0->torchmetrics) (2023.10.0)\n",
      "Requirement already satisfied: MarkupSafe>=2.0 in /Users/ahmedmostafa/miniconda3/envs/torch/lib/python3.9/site-packages (from jinja2->torch>=1.10.0->torchmetrics) (2.1.3)\n",
      "Requirement already satisfied: mpmath>=0.19 in /Users/ahmedmostafa/miniconda3/envs/torch/lib/python3.9/site-packages (from sympy->torch>=1.10.0->torchmetrics) (1.3.0)\n"
     ]
    }
   ],
   "execution_count": 2,
   "source": [
    "%load_ext tensorboard\n",
    "!pip install datasets\n",
    "!pip install tokenizers\n",
    "!pip install torchmetrics"
   ],
   "id": "initial_id"
  },
  {
   "metadata": {},
   "cell_type": "code",
   "outputs": [],
   "execution_count": null,
   "source": [
    "%%capture\n",
    "from google.colab import drvie\n",
    "drvie.mount('/content/drive')"
   ],
   "id": "e99ee1626661079a"
  },
  {
   "cell_type": "code",
   "execution_count": 3,
   "id": "43af33b3",
   "metadata": {},
   "outputs": [
    {
     "name": "stdout",
     "output_type": "stream",
     "text": [
      "The tensorboard extension is already loaded. To reload it, use:\n",
      "  %reload_ext tensorboard\n"
     ]
    }
   ],
   "source": "%tensorboard --logdir runs"
  },
  {
   "cell_type": "code",
   "execution_count": null,
   "id": "19e1af2d22663d3c",
   "metadata": {},
   "outputs": [],
   "source": "%cd Transformer_From_Scratch_Translation"
  },
  {
   "metadata": {},
   "cell_type": "code",
   "outputs": [],
   "execution_count": null,
   "source": "%ls",
   "id": "4b7e29dae5b359e3"
  },
  {
   "metadata": {},
   "cell_type": "code",
   "outputs": [],
   "execution_count": null,
   "source": [
    "!mkdir -p /content/drive/MyDrive/Models/pytorch-transformer/weights\n",
    "!mkdir -p /content/drive/MyDrive/Models/pytorch-transformer/vocab"
   ],
   "id": "db30a7f9d0d4dd80"
  },
  {
   "cell_type": "code",
   "execution_count": 6,
   "id": "c0ef4cfdb1d57aff",
   "metadata": {},
   "outputs": [
    {
     "ename": "SymbolAlreadyExposedError",
     "evalue": "Symbol Zeros is already exposed as ().",
     "output_type": "error",
     "traceback": [
      "\u001B[0;31m---------------------------------------------------------------------------\u001B[0m",
      "\u001B[0;31mImportError\u001B[0m                               Traceback (most recent call last)",
      "File \u001B[0;32m~/miniconda3/envs/torch/lib/python3.9/site-packages/tensorboard/compat/__init__.py:42\u001B[0m, in \u001B[0;36mtf\u001B[0;34m()\u001B[0m\n\u001B[1;32m     41\u001B[0m \u001B[39mtry\u001B[39;00m:\n\u001B[0;32m---> 42\u001B[0m     \u001B[39mfrom\u001B[39;00m \u001B[39mtensorboard\u001B[39;00m\u001B[39m.\u001B[39;00m\u001B[39mcompat\u001B[39;00m \u001B[39mimport\u001B[39;00m notf  \u001B[39m# noqa: F401\u001B[39;00m\n\u001B[1;32m     43\u001B[0m \u001B[39mexcept\u001B[39;00m \u001B[39mImportError\u001B[39;00m:\n",
      "\u001B[0;31mImportError\u001B[0m: cannot import name 'notf' from 'tensorboard.compat' (/Users/ahmedmostafa/miniconda3/envs/torch/lib/python3.9/site-packages/tensorboard/compat/__init__.py)",
      "\nDuring handling of the above exception, another exception occurred:\n",
      "\u001B[0;31mSymbolAlreadyExposedError\u001B[0m                 Traceback (most recent call last)",
      "\u001B[1;32m/Users/ahmedmostafa/from_eng_to_arabic_transformer_from_scratch/Colab_train.ipynb Cell 7\u001B[0m line \u001B[0;36m1\n\u001B[1;32m      <a href='vscode-notebook-cell:/Users/ahmedmostafa/from_eng_to_arabic_transformer_from_scratch/Colab_train.ipynb#W4sZmlsZQ%3D%3D?line=6'>7</a>\u001B[0m cfg[\u001B[39m'\u001B[39m\u001B[39mnum_epochs\u001B[39m\u001B[39m'\u001B[39m] \u001B[39m=\u001B[39m \u001B[39m100\u001B[39m\n\u001B[1;32m      <a href='vscode-notebook-cell:/Users/ahmedmostafa/from_eng_to_arabic_transformer_from_scratch/Colab_train.ipynb#W4sZmlsZQ%3D%3D?line=7'>8</a>\u001B[0m cfg[\u001B[39m'\u001B[39m\u001B[39mpreload\u001B[39m\u001B[39m'\u001B[39m] \u001B[39m=\u001B[39m \u001B[39mNone\u001B[39;00m\n\u001B[0;32m---> <a href='vscode-notebook-cell:/Users/ahmedmostafa/from_eng_to_arabic_transformer_from_scratch/Colab_train.ipynb#W4sZmlsZQ%3D%3D?line=9'>10</a>\u001B[0m \u001B[39mfrom\u001B[39;00m \u001B[39mtrain\u001B[39;00m \u001B[39mimport\u001B[39;00m train_model\n\u001B[1;32m     <a href='vscode-notebook-cell:/Users/ahmedmostafa/from_eng_to_arabic_transformer_from_scratch/Colab_train.ipynb#W4sZmlsZQ%3D%3D?line=11'>12</a>\u001B[0m train_model(cfg)\n",
      "File \u001B[0;32m~/from_eng_to_arabic_transformer_from_scratch/train.py:24\u001B[0m\n\u001B[1;32m     20\u001B[0m \u001B[39mfrom\u001B[39;00m \u001B[39mtokenizers\u001B[39;00m\u001B[39m.\u001B[39;00m\u001B[39mpre_tokenizers\u001B[39;00m \u001B[39mimport\u001B[39;00m Whitespace\n\u001B[1;32m     23\u001B[0m \u001B[39mimport\u001B[39;00m \u001B[39mtorchmetrics\u001B[39;00m\n\u001B[0;32m---> 24\u001B[0m \u001B[39mfrom\u001B[39;00m \u001B[39mtorch\u001B[39;00m\u001B[39m.\u001B[39;00m\u001B[39mutils\u001B[39;00m\u001B[39m.\u001B[39;00m\u001B[39mtensorboard\u001B[39;00m \u001B[39mimport\u001B[39;00m SummaryWriter\n\u001B[1;32m     25\u001B[0m \u001B[39mimport\u001B[39;00m \u001B[39mos\u001B[39;00m\n\u001B[1;32m     26\u001B[0m os\u001B[39m.\u001B[39menviron[\u001B[39m'\u001B[39m\u001B[39mKMP_DUPLICATE_LIB_OK\u001B[39m\u001B[39m'\u001B[39m]\u001B[39m=\u001B[39m\u001B[39m'\u001B[39m\u001B[39mTrue\u001B[39m\u001B[39m'\u001B[39m\n",
      "File \u001B[0;32m~/miniconda3/envs/torch/lib/python3.9/site-packages/torch/utils/tensorboard/__init__.py:12\u001B[0m\n\u001B[1;32m      9\u001B[0m \u001B[39mdel\u001B[39;00m Version\n\u001B[1;32m     10\u001B[0m \u001B[39mdel\u001B[39;00m tensorboard\n\u001B[0;32m---> 12\u001B[0m \u001B[39mfrom\u001B[39;00m \u001B[39m.\u001B[39;00m\u001B[39mwriter\u001B[39;00m \u001B[39mimport\u001B[39;00m FileWriter, SummaryWriter  \u001B[39m# noqa: F401\u001B[39;00m\n\u001B[1;32m     13\u001B[0m \u001B[39mfrom\u001B[39;00m \u001B[39mtensorboard\u001B[39;00m\u001B[39m.\u001B[39;00m\u001B[39msummary\u001B[39;00m\u001B[39m.\u001B[39;00m\u001B[39mwriter\u001B[39;00m\u001B[39m.\u001B[39;00m\u001B[39mrecord_writer\u001B[39;00m \u001B[39mimport\u001B[39;00m RecordWriter  \u001B[39m# noqa: F401\u001B[39;00m\n",
      "File \u001B[0;32m~/miniconda3/envs/torch/lib/python3.9/site-packages/torch/utils/tensorboard/writer.py:18\u001B[0m\n\u001B[1;32m     15\u001B[0m \u001B[39mfrom\u001B[39;00m \u001B[39mtensorboard\u001B[39;00m\u001B[39m.\u001B[39;00m\u001B[39msummary\u001B[39;00m\u001B[39m.\u001B[39;00m\u001B[39mwriter\u001B[39;00m\u001B[39m.\u001B[39;00m\u001B[39mevent_file_writer\u001B[39;00m \u001B[39mimport\u001B[39;00m EventFileWriter\n\u001B[1;32m     17\u001B[0m \u001B[39mfrom\u001B[39;00m \u001B[39m.\u001B[39;00m\u001B[39m_convert_np\u001B[39;00m \u001B[39mimport\u001B[39;00m make_np\n\u001B[0;32m---> 18\u001B[0m \u001B[39mfrom\u001B[39;00m \u001B[39m.\u001B[39;00m\u001B[39m_embedding\u001B[39;00m \u001B[39mimport\u001B[39;00m get_embedding_info, make_mat, make_sprite, make_tsv, write_pbtxt\n\u001B[1;32m     19\u001B[0m \u001B[39mfrom\u001B[39;00m \u001B[39m.\u001B[39;00m\u001B[39m_onnx_graph\u001B[39;00m \u001B[39mimport\u001B[39;00m load_onnx_graph\n\u001B[1;32m     20\u001B[0m \u001B[39mfrom\u001B[39;00m \u001B[39m.\u001B[39;00m\u001B[39m_pytorch_graph\u001B[39;00m \u001B[39mimport\u001B[39;00m graph\n",
      "File \u001B[0;32m~/miniconda3/envs/torch/lib/python3.9/site-packages/torch/utils/tensorboard/_embedding.py:9\u001B[0m\n\u001B[1;32m      5\u001B[0m \u001B[39mfrom\u001B[39;00m \u001B[39mtensorboard\u001B[39;00m\u001B[39m.\u001B[39;00m\u001B[39mcompat\u001B[39;00m \u001B[39mimport\u001B[39;00m tf\n\u001B[1;32m      6\u001B[0m \u001B[39mfrom\u001B[39;00m \u001B[39mtensorboard\u001B[39;00m\u001B[39m.\u001B[39;00m\u001B[39mplugins\u001B[39;00m\u001B[39m.\u001B[39;00m\u001B[39mprojector\u001B[39;00m\u001B[39m.\u001B[39;00m\u001B[39mprojector_config_pb2\u001B[39;00m \u001B[39mimport\u001B[39;00m EmbeddingInfo\n\u001B[0;32m----> 9\u001B[0m _HAS_GFILE_JOIN \u001B[39m=\u001B[39m \u001B[39mhasattr\u001B[39m(tf\u001B[39m.\u001B[39;49mio\u001B[39m.\u001B[39mgfile, \u001B[39m\"\u001B[39m\u001B[39mjoin\u001B[39m\u001B[39m\"\u001B[39m)\n\u001B[1;32m     12\u001B[0m \u001B[39mdef\u001B[39;00m \u001B[39m_gfile_join\u001B[39m(a, b):\n\u001B[1;32m     13\u001B[0m     \u001B[39m# The join API is different between tensorboard's TF stub and TF:\u001B[39;00m\n\u001B[1;32m     14\u001B[0m     \u001B[39m# https://github.com/tensorflow/tensorboard/issues/6080\u001B[39;00m\n\u001B[1;32m     15\u001B[0m     \u001B[39m# We need to try both because `tf` may point to either the stub or the real TF.\u001B[39;00m\n\u001B[1;32m     16\u001B[0m     \u001B[39mif\u001B[39;00m _HAS_GFILE_JOIN:\n",
      "File \u001B[0;32m~/miniconda3/envs/torch/lib/python3.9/site-packages/tensorboard/lazy.py:65\u001B[0m, in \u001B[0;36mlazy_load.<locals>.wrapper.<locals>.LazyModule.__getattr__\u001B[0;34m(self, attr_name)\u001B[0m\n\u001B[1;32m     64\u001B[0m \u001B[39mdef\u001B[39;00m \u001B[39m__getattr__\u001B[39m(\u001B[39mself\u001B[39m, attr_name):\n\u001B[0;32m---> 65\u001B[0m     \u001B[39mreturn\u001B[39;00m \u001B[39mgetattr\u001B[39m(load_once(\u001B[39mself\u001B[39;49m), attr_name)\n",
      "File \u001B[0;32m~/miniconda3/envs/torch/lib/python3.9/site-packages/tensorboard/lazy.py:97\u001B[0m, in \u001B[0;36m_memoize.<locals>.wrapper\u001B[0;34m(arg)\u001B[0m\n\u001B[1;32m     95\u001B[0m     \u001B[39mwith\u001B[39;00m lock:\n\u001B[1;32m     96\u001B[0m         \u001B[39mif\u001B[39;00m cache\u001B[39m.\u001B[39mget(arg, nothing) \u001B[39mis\u001B[39;00m nothing:\n\u001B[0;32m---> 97\u001B[0m             cache[arg] \u001B[39m=\u001B[39m f(arg)\n\u001B[1;32m     98\u001B[0m \u001B[39mreturn\u001B[39;00m cache[arg]\n",
      "File \u001B[0;32m~/miniconda3/envs/torch/lib/python3.9/site-packages/tensorboard/lazy.py:50\u001B[0m, in \u001B[0;36mlazy_load.<locals>.wrapper.<locals>.load_once\u001B[0;34m(self)\u001B[0m\n\u001B[1;32m     48\u001B[0m load_once\u001B[39m.\u001B[39mloading \u001B[39m=\u001B[39m \u001B[39mTrue\u001B[39;00m\n\u001B[1;32m     49\u001B[0m \u001B[39mtry\u001B[39;00m:\n\u001B[0;32m---> 50\u001B[0m     module \u001B[39m=\u001B[39m load_fn()\n\u001B[1;32m     51\u001B[0m \u001B[39mfinally\u001B[39;00m:\n\u001B[1;32m     52\u001B[0m     load_once\u001B[39m.\u001B[39mloading \u001B[39m=\u001B[39m \u001B[39mFalse\u001B[39;00m\n",
      "File \u001B[0;32m~/miniconda3/envs/torch/lib/python3.9/site-packages/tensorboard/compat/__init__.py:45\u001B[0m, in \u001B[0;36mtf\u001B[0;34m()\u001B[0m\n\u001B[1;32m     43\u001B[0m \u001B[39mexcept\u001B[39;00m \u001B[39mImportError\u001B[39;00m:\n\u001B[1;32m     44\u001B[0m     \u001B[39mtry\u001B[39;00m:\n\u001B[0;32m---> 45\u001B[0m         \u001B[39mimport\u001B[39;00m \u001B[39mtensorflow\u001B[39;00m\n\u001B[1;32m     47\u001B[0m         \u001B[39mreturn\u001B[39;00m tensorflow\n\u001B[1;32m     48\u001B[0m     \u001B[39mexcept\u001B[39;00m \u001B[39mImportError\u001B[39;00m:\n",
      "File \u001B[0;32m~/miniconda3/envs/torch/lib/python3.9/site-packages/tensorflow/__init__.py:470\u001B[0m\n\u001B[1;32m    468\u001B[0m \u001B[39mif\u001B[39;00m \u001B[39mhasattr\u001B[39m(_current_module, \u001B[39m\"\u001B[39m\u001B[39mkeras\u001B[39m\u001B[39m\"\u001B[39m):\n\u001B[1;32m    469\u001B[0m   \u001B[39mtry\u001B[39;00m:\n\u001B[0;32m--> 470\u001B[0m     _keras\u001B[39m.\u001B[39;49m_load()\n\u001B[1;32m    471\u001B[0m   \u001B[39mexcept\u001B[39;00m \u001B[39mImportError\u001B[39;00m:\n\u001B[1;32m    472\u001B[0m     \u001B[39mpass\u001B[39;00m\n",
      "File \u001B[0;32m~/miniconda3/envs/torch/lib/python3.9/site-packages/tensorflow/python/util/lazy_loader.py:41\u001B[0m, in \u001B[0;36mLazyLoader._load\u001B[0;34m(self)\u001B[0m\n\u001B[1;32m     39\u001B[0m \u001B[39m\u001B[39m\u001B[39m\"\"\"Load the module and insert it into the parent's globals.\"\"\"\u001B[39;00m\n\u001B[1;32m     40\u001B[0m \u001B[39m# Import the target module and insert it into the parent's namespace\u001B[39;00m\n\u001B[0;32m---> 41\u001B[0m module \u001B[39m=\u001B[39m importlib\u001B[39m.\u001B[39;49mimport_module(\u001B[39mself\u001B[39;49m\u001B[39m.\u001B[39;49m\u001B[39m__name__\u001B[39;49m)\n\u001B[1;32m     42\u001B[0m \u001B[39mself\u001B[39m\u001B[39m.\u001B[39m_parent_module_globals[\u001B[39mself\u001B[39m\u001B[39m.\u001B[39m_local_name] \u001B[39m=\u001B[39m module\n\u001B[1;32m     44\u001B[0m \u001B[39m# Emit a warning if one was specified\u001B[39;00m\n",
      "File \u001B[0;32m~/miniconda3/envs/torch/lib/python3.9/importlib/__init__.py:127\u001B[0m, in \u001B[0;36mimport_module\u001B[0;34m(name, package)\u001B[0m\n\u001B[1;32m    125\u001B[0m             \u001B[39mbreak\u001B[39;00m\n\u001B[1;32m    126\u001B[0m         level \u001B[39m+\u001B[39m\u001B[39m=\u001B[39m \u001B[39m1\u001B[39m\n\u001B[0;32m--> 127\u001B[0m \u001B[39mreturn\u001B[39;00m _bootstrap\u001B[39m.\u001B[39;49m_gcd_import(name[level:], package, level)\n",
      "File \u001B[0;32m~/miniconda3/envs/torch/lib/python3.9/site-packages/keras/__init__.py:21\u001B[0m\n\u001B[1;32m     15\u001B[0m \u001B[39m\"\"\"Implementation of the Keras API, the high-level API of TensorFlow.\u001B[39;00m\n\u001B[1;32m     16\u001B[0m \n\u001B[1;32m     17\u001B[0m \u001B[39mDetailed documentation and user guides are available at\u001B[39;00m\n\u001B[1;32m     18\u001B[0m \u001B[39m[keras.io](https://keras.io).\u001B[39;00m\n\u001B[1;32m     19\u001B[0m \u001B[39m\"\"\"\u001B[39;00m\n\u001B[1;32m     20\u001B[0m \u001B[39mfrom\u001B[39;00m \u001B[39mkeras\u001B[39;00m \u001B[39mimport\u001B[39;00m distribute\n\u001B[0;32m---> 21\u001B[0m \u001B[39mfrom\u001B[39;00m \u001B[39mkeras\u001B[39;00m \u001B[39mimport\u001B[39;00m models\n\u001B[1;32m     22\u001B[0m \u001B[39mfrom\u001B[39;00m \u001B[39mkeras\u001B[39;00m\u001B[39m.\u001B[39;00m\u001B[39mengine\u001B[39;00m\u001B[39m.\u001B[39;00m\u001B[39minput_layer\u001B[39;00m \u001B[39mimport\u001B[39;00m Input\n\u001B[1;32m     23\u001B[0m \u001B[39mfrom\u001B[39;00m \u001B[39mkeras\u001B[39;00m\u001B[39m.\u001B[39;00m\u001B[39mengine\u001B[39;00m\u001B[39m.\u001B[39;00m\u001B[39msequential\u001B[39;00m \u001B[39mimport\u001B[39;00m Sequential\n",
      "File \u001B[0;32m~/miniconda3/envs/torch/lib/python3.9/site-packages/keras/models/__init__.py:18\u001B[0m\n\u001B[1;32m      1\u001B[0m \u001B[39m# Copyright 2022 The TensorFlow Authors. All Rights Reserved.\u001B[39;00m\n\u001B[1;32m      2\u001B[0m \u001B[39m#\u001B[39;00m\n\u001B[1;32m      3\u001B[0m \u001B[39m# Licensed under the Apache License, Version 2.0 (the \"License\");\u001B[39;00m\n\u001B[0;32m   (...)\u001B[0m\n\u001B[1;32m     13\u001B[0m \u001B[39m# limitations under the License.\u001B[39;00m\n\u001B[1;32m     14\u001B[0m \u001B[39m# ==============================================================================\u001B[39;00m\n\u001B[1;32m     15\u001B[0m \u001B[39m\"\"\"Keras models API.\"\"\"\u001B[39;00m\n\u001B[0;32m---> 18\u001B[0m \u001B[39mfrom\u001B[39;00m \u001B[39mkeras\u001B[39;00m\u001B[39m.\u001B[39;00m\u001B[39mengine\u001B[39;00m\u001B[39m.\u001B[39;00m\u001B[39mfunctional\u001B[39;00m \u001B[39mimport\u001B[39;00m Functional\n\u001B[1;32m     19\u001B[0m \u001B[39mfrom\u001B[39;00m \u001B[39mkeras\u001B[39;00m\u001B[39m.\u001B[39;00m\u001B[39mengine\u001B[39;00m\u001B[39m.\u001B[39;00m\u001B[39msequential\u001B[39;00m \u001B[39mimport\u001B[39;00m Sequential\n\u001B[1;32m     20\u001B[0m \u001B[39mfrom\u001B[39;00m \u001B[39mkeras\u001B[39;00m\u001B[39m.\u001B[39;00m\u001B[39mengine\u001B[39;00m\u001B[39m.\u001B[39;00m\u001B[39mtraining\u001B[39;00m \u001B[39mimport\u001B[39;00m Model\n",
      "File \u001B[0;32m~/miniconda3/envs/torch/lib/python3.9/site-packages/keras/engine/functional.py:26\u001B[0m\n\u001B[1;32m     22\u001B[0m \u001B[39mimport\u001B[39;00m \u001B[39mwarnings\u001B[39;00m\n\u001B[1;32m     24\u001B[0m \u001B[39mimport\u001B[39;00m \u001B[39mtensorflow\u001B[39;00m\u001B[39m.\u001B[39;00m\u001B[39mcompat\u001B[39;00m\u001B[39m.\u001B[39;00m\u001B[39mv2\u001B[39;00m \u001B[39mas\u001B[39;00m \u001B[39mtf\u001B[39;00m\n\u001B[0;32m---> 26\u001B[0m \u001B[39mfrom\u001B[39;00m \u001B[39mkeras\u001B[39;00m \u001B[39mimport\u001B[39;00m backend\n\u001B[1;32m     27\u001B[0m \u001B[39mfrom\u001B[39;00m \u001B[39mkeras\u001B[39;00m\u001B[39m.\u001B[39;00m\u001B[39mdtensor\u001B[39;00m \u001B[39mimport\u001B[39;00m layout_map \u001B[39mas\u001B[39;00m layout_map_lib\n\u001B[1;32m     28\u001B[0m \u001B[39mfrom\u001B[39;00m \u001B[39mkeras\u001B[39;00m\u001B[39m.\u001B[39;00m\u001B[39mengine\u001B[39;00m \u001B[39mimport\u001B[39;00m base_layer\n",
      "File \u001B[0;32m~/miniconda3/envs/torch/lib/python3.9/site-packages/keras/backend/__init__.py:3\u001B[0m\n\u001B[1;32m      1\u001B[0m \u001B[39m\"\"\"AUTOGENERATED. DO NOT EDIT.\"\"\"\u001B[39;00m\n\u001B[0;32m----> 3\u001B[0m \u001B[39mfrom\u001B[39;00m \u001B[39mkeras\u001B[39;00m\u001B[39m.\u001B[39;00m\u001B[39mbackend\u001B[39;00m \u001B[39mimport\u001B[39;00m experimental\n\u001B[1;32m      4\u001B[0m \u001B[39mfrom\u001B[39;00m \u001B[39mkeras\u001B[39;00m\u001B[39m.\u001B[39;00m\u001B[39msrc\u001B[39;00m\u001B[39m.\u001B[39;00m\u001B[39mbackend\u001B[39;00m \u001B[39mimport\u001B[39;00m \u001B[39mabs\u001B[39m\n\u001B[1;32m      5\u001B[0m \u001B[39mfrom\u001B[39;00m \u001B[39mkeras\u001B[39;00m\u001B[39m.\u001B[39;00m\u001B[39msrc\u001B[39;00m\u001B[39m.\u001B[39;00m\u001B[39mbackend\u001B[39;00m \u001B[39mimport\u001B[39;00m \u001B[39mall\u001B[39m\n",
      "File \u001B[0;32m~/miniconda3/envs/torch/lib/python3.9/site-packages/keras/backend/experimental/__init__.py:3\u001B[0m\n\u001B[1;32m      1\u001B[0m \u001B[39m\"\"\"AUTOGENERATED. DO NOT EDIT.\"\"\"\u001B[39;00m\n\u001B[0;32m----> 3\u001B[0m \u001B[39mfrom\u001B[39;00m \u001B[39mkeras\u001B[39;00m\u001B[39m.\u001B[39;00m\u001B[39msrc\u001B[39;00m\u001B[39m.\u001B[39;00m\u001B[39mbackend\u001B[39;00m \u001B[39mimport\u001B[39;00m disable_tf_random_generator\n\u001B[1;32m      4\u001B[0m \u001B[39mfrom\u001B[39;00m \u001B[39mkeras\u001B[39;00m\u001B[39m.\u001B[39;00m\u001B[39msrc\u001B[39;00m\u001B[39m.\u001B[39;00m\u001B[39mbackend\u001B[39;00m \u001B[39mimport\u001B[39;00m enable_tf_random_generator\n\u001B[1;32m      5\u001B[0m \u001B[39mfrom\u001B[39;00m \u001B[39mkeras\u001B[39;00m\u001B[39m.\u001B[39;00m\u001B[39msrc\u001B[39;00m\u001B[39m.\u001B[39;00m\u001B[39mbackend\u001B[39;00m \u001B[39mimport\u001B[39;00m is_tf_random_generator_enabled\n",
      "File \u001B[0;32m~/miniconda3/envs/torch/lib/python3.9/site-packages/keras/src/__init__.py:21\u001B[0m\n\u001B[1;32m      1\u001B[0m \u001B[39m# Copyright 2015 The TensorFlow Authors. All Rights Reserved.\u001B[39;00m\n\u001B[1;32m      2\u001B[0m \u001B[39m#\u001B[39;00m\n\u001B[1;32m      3\u001B[0m \u001B[39m# Licensed under the Apache License, Version 2.0 (the \"License\");\u001B[39;00m\n\u001B[0;32m   (...)\u001B[0m\n\u001B[1;32m     13\u001B[0m \u001B[39m# limitations under the License.\u001B[39;00m\n\u001B[1;32m     14\u001B[0m \u001B[39m# ==============================================================================\u001B[39;00m\n\u001B[1;32m     15\u001B[0m \u001B[39m\"\"\"Implementation of the Keras API, the high-level API of TensorFlow.\u001B[39;00m\n\u001B[1;32m     16\u001B[0m \n\u001B[1;32m     17\u001B[0m \u001B[39mDetailed documentation and user guides are available at\u001B[39;00m\n\u001B[1;32m     18\u001B[0m \u001B[39m[keras.io](https://keras.io).\u001B[39;00m\n\u001B[1;32m     19\u001B[0m \u001B[39m\"\"\"\u001B[39;00m\n\u001B[0;32m---> 21\u001B[0m \u001B[39mfrom\u001B[39;00m \u001B[39mkeras\u001B[39;00m\u001B[39m.\u001B[39;00m\u001B[39msrc\u001B[39;00m \u001B[39mimport\u001B[39;00m applications\n\u001B[1;32m     22\u001B[0m \u001B[39mfrom\u001B[39;00m \u001B[39mkeras\u001B[39;00m\u001B[39m.\u001B[39;00m\u001B[39msrc\u001B[39;00m \u001B[39mimport\u001B[39;00m distribute\n\u001B[1;32m     23\u001B[0m \u001B[39mfrom\u001B[39;00m \u001B[39mkeras\u001B[39;00m\u001B[39m.\u001B[39;00m\u001B[39msrc\u001B[39;00m \u001B[39mimport\u001B[39;00m models\n",
      "File \u001B[0;32m~/miniconda3/envs/torch/lib/python3.9/site-packages/keras/src/applications/__init__.py:18\u001B[0m\n\u001B[1;32m      1\u001B[0m \u001B[39m# Copyright 2016 The TensorFlow Authors. All Rights Reserved.\u001B[39;00m\n\u001B[1;32m      2\u001B[0m \u001B[39m#\u001B[39;00m\n\u001B[1;32m      3\u001B[0m \u001B[39m# Licensed under the Apache License, Version 2.0 (the \"License\");\u001B[39;00m\n\u001B[0;32m   (...)\u001B[0m\n\u001B[1;32m     13\u001B[0m \u001B[39m# limitations under the License.\u001B[39;00m\n\u001B[1;32m     14\u001B[0m \u001B[39m# ==============================================================================\u001B[39;00m\n\u001B[1;32m     15\u001B[0m \u001B[39m\"\"\"Keras Applications are premade architectures with pre-trained weights.\"\"\"\u001B[39;00m\n\u001B[0;32m---> 18\u001B[0m \u001B[39mfrom\u001B[39;00m \u001B[39mkeras\u001B[39;00m\u001B[39m.\u001B[39;00m\u001B[39msrc\u001B[39;00m\u001B[39m.\u001B[39;00m\u001B[39mapplications\u001B[39;00m\u001B[39m.\u001B[39;00m\u001B[39mconvnext\u001B[39;00m \u001B[39mimport\u001B[39;00m ConvNeXtBase\n\u001B[1;32m     19\u001B[0m \u001B[39mfrom\u001B[39;00m \u001B[39mkeras\u001B[39;00m\u001B[39m.\u001B[39;00m\u001B[39msrc\u001B[39;00m\u001B[39m.\u001B[39;00m\u001B[39mapplications\u001B[39;00m\u001B[39m.\u001B[39;00m\u001B[39mconvnext\u001B[39;00m \u001B[39mimport\u001B[39;00m ConvNeXtLarge\n\u001B[1;32m     20\u001B[0m \u001B[39mfrom\u001B[39;00m \u001B[39mkeras\u001B[39;00m\u001B[39m.\u001B[39;00m\u001B[39msrc\u001B[39;00m\u001B[39m.\u001B[39;00m\u001B[39mapplications\u001B[39;00m\u001B[39m.\u001B[39;00m\u001B[39mconvnext\u001B[39;00m \u001B[39mimport\u001B[39;00m ConvNeXtSmall\n",
      "File \u001B[0;32m~/miniconda3/envs/torch/lib/python3.9/site-packages/keras/src/applications/convnext.py:28\u001B[0m\n\u001B[1;32m     25\u001B[0m \u001B[39mimport\u001B[39;00m \u001B[39mnumpy\u001B[39;00m \u001B[39mas\u001B[39;00m \u001B[39mnp\u001B[39;00m\n\u001B[1;32m     26\u001B[0m \u001B[39mimport\u001B[39;00m \u001B[39mtensorflow\u001B[39;00m\u001B[39m.\u001B[39;00m\u001B[39mcompat\u001B[39;00m\u001B[39m.\u001B[39;00m\u001B[39mv2\u001B[39;00m \u001B[39mas\u001B[39;00m \u001B[39mtf\u001B[39;00m\n\u001B[0;32m---> 28\u001B[0m \u001B[39mfrom\u001B[39;00m \u001B[39mkeras\u001B[39;00m\u001B[39m.\u001B[39;00m\u001B[39msrc\u001B[39;00m \u001B[39mimport\u001B[39;00m backend\n\u001B[1;32m     29\u001B[0m \u001B[39mfrom\u001B[39;00m \u001B[39mkeras\u001B[39;00m\u001B[39m.\u001B[39;00m\u001B[39msrc\u001B[39;00m \u001B[39mimport\u001B[39;00m initializers\n\u001B[1;32m     30\u001B[0m \u001B[39mfrom\u001B[39;00m \u001B[39mkeras\u001B[39;00m\u001B[39m.\u001B[39;00m\u001B[39msrc\u001B[39;00m \u001B[39mimport\u001B[39;00m layers\n",
      "File \u001B[0;32m~/miniconda3/envs/torch/lib/python3.9/site-packages/keras/src/backend.py:35\u001B[0m\n\u001B[1;32m     33\u001B[0m \u001B[39mfrom\u001B[39;00m \u001B[39mkeras\u001B[39;00m\u001B[39m.\u001B[39;00m\u001B[39msrc\u001B[39;00m\u001B[39m.\u001B[39;00m\u001B[39mdistribute\u001B[39;00m \u001B[39mimport\u001B[39;00m distribute_coordinator_utils \u001B[39mas\u001B[39;00m dc\n\u001B[1;32m     34\u001B[0m \u001B[39mfrom\u001B[39;00m \u001B[39mkeras\u001B[39;00m\u001B[39m.\u001B[39;00m\u001B[39msrc\u001B[39;00m\u001B[39m.\u001B[39;00m\u001B[39mdtensor\u001B[39;00m \u001B[39mimport\u001B[39;00m dtensor_api \u001B[39mas\u001B[39;00m dtensor\n\u001B[0;32m---> 35\u001B[0m \u001B[39mfrom\u001B[39;00m \u001B[39mkeras\u001B[39;00m\u001B[39m.\u001B[39;00m\u001B[39msrc\u001B[39;00m\u001B[39m.\u001B[39;00m\u001B[39mengine\u001B[39;00m \u001B[39mimport\u001B[39;00m keras_tensor\n\u001B[1;32m     36\u001B[0m \u001B[39mfrom\u001B[39;00m \u001B[39mkeras\u001B[39;00m\u001B[39m.\u001B[39;00m\u001B[39msrc\u001B[39;00m\u001B[39m.\u001B[39;00m\u001B[39mutils\u001B[39;00m \u001B[39mimport\u001B[39;00m control_flow_util\n\u001B[1;32m     37\u001B[0m \u001B[39mfrom\u001B[39;00m \u001B[39mkeras\u001B[39;00m\u001B[39m.\u001B[39;00m\u001B[39msrc\u001B[39;00m\u001B[39m.\u001B[39;00m\u001B[39mutils\u001B[39;00m \u001B[39mimport\u001B[39;00m object_identity\n",
      "File \u001B[0;32m~/miniconda3/envs/torch/lib/python3.9/site-packages/keras/src/engine/keras_tensor.py:19\u001B[0m\n\u001B[1;32m     15\u001B[0m \u001B[39m\"\"\"Keras Input Tensor used to track functional API Topology.\"\"\"\u001B[39;00m\n\u001B[1;32m     17\u001B[0m \u001B[39mimport\u001B[39;00m \u001B[39mtensorflow\u001B[39;00m\u001B[39m.\u001B[39;00m\u001B[39mcompat\u001B[39;00m\u001B[39m.\u001B[39;00m\u001B[39mv2\u001B[39;00m \u001B[39mas\u001B[39;00m \u001B[39mtf\u001B[39;00m\n\u001B[0;32m---> 19\u001B[0m \u001B[39mfrom\u001B[39;00m \u001B[39mkeras\u001B[39;00m\u001B[39m.\u001B[39;00m\u001B[39msrc\u001B[39;00m\u001B[39m.\u001B[39;00m\u001B[39mutils\u001B[39;00m \u001B[39mimport\u001B[39;00m object_identity\n\u001B[1;32m     21\u001B[0m \u001B[39m# isort: off\u001B[39;00m\n\u001B[1;32m     22\u001B[0m \u001B[39mfrom\u001B[39;00m \u001B[39mtensorflow\u001B[39;00m\u001B[39m.\u001B[39;00m\u001B[39mpython\u001B[39;00m\u001B[39m.\u001B[39;00m\u001B[39mdata\u001B[39;00m\u001B[39m.\u001B[39;00m\u001B[39mutil\u001B[39;00m \u001B[39mimport\u001B[39;00m structure\n",
      "File \u001B[0;32m~/miniconda3/envs/torch/lib/python3.9/site-packages/keras/src/utils/__init__.py:20\u001B[0m\n\u001B[1;32m     15\u001B[0m \u001B[39m\"\"\"Public Keras utilities.\"\"\"\u001B[39;00m\n\u001B[1;32m     17\u001B[0m \u001B[39m# isort: off\u001B[39;00m\n\u001B[1;32m     18\u001B[0m \n\u001B[1;32m     19\u001B[0m \u001B[39m# Serialization related\u001B[39;00m\n\u001B[0;32m---> 20\u001B[0m \u001B[39mfrom\u001B[39;00m \u001B[39mkeras\u001B[39;00m\u001B[39m.\u001B[39;00m\u001B[39msrc\u001B[39;00m\u001B[39m.\u001B[39;00m\u001B[39msaving\u001B[39;00m\u001B[39m.\u001B[39;00m\u001B[39mserialization_lib\u001B[39;00m \u001B[39mimport\u001B[39;00m deserialize_keras_object\n\u001B[1;32m     21\u001B[0m \u001B[39mfrom\u001B[39;00m \u001B[39mkeras\u001B[39;00m\u001B[39m.\u001B[39;00m\u001B[39msrc\u001B[39;00m\u001B[39m.\u001B[39;00m\u001B[39msaving\u001B[39;00m\u001B[39m.\u001B[39;00m\u001B[39mserialization_lib\u001B[39;00m \u001B[39mimport\u001B[39;00m serialize_keras_object\n\u001B[1;32m     22\u001B[0m \u001B[39mfrom\u001B[39;00m \u001B[39mkeras\u001B[39;00m\u001B[39m.\u001B[39;00m\u001B[39msrc\u001B[39;00m\u001B[39m.\u001B[39;00m\u001B[39msaving\u001B[39;00m\u001B[39m.\u001B[39;00m\u001B[39mobject_registration\u001B[39;00m \u001B[39mimport\u001B[39;00m CustomObjectScope\n",
      "File \u001B[0;32m~/miniconda3/envs/torch/lib/python3.9/site-packages/keras/src/saving/serialization_lib.py:28\u001B[0m\n\u001B[1;32m     26\u001B[0m \u001B[39mfrom\u001B[39;00m \u001B[39mkeras\u001B[39;00m\u001B[39m.\u001B[39;00m\u001B[39msrc\u001B[39;00m\u001B[39m.\u001B[39;00m\u001B[39msaving\u001B[39;00m \u001B[39mimport\u001B[39;00m object_registration\n\u001B[1;32m     27\u001B[0m \u001B[39mfrom\u001B[39;00m \u001B[39mkeras\u001B[39;00m\u001B[39m.\u001B[39;00m\u001B[39msrc\u001B[39;00m\u001B[39m.\u001B[39;00m\u001B[39msaving\u001B[39;00m\u001B[39m.\u001B[39;00m\u001B[39mlegacy\u001B[39;00m \u001B[39mimport\u001B[39;00m serialization \u001B[39mas\u001B[39;00m legacy_serialization\n\u001B[0;32m---> 28\u001B[0m \u001B[39mfrom\u001B[39;00m \u001B[39mkeras\u001B[39;00m\u001B[39m.\u001B[39;00m\u001B[39msrc\u001B[39;00m\u001B[39m.\u001B[39;00m\u001B[39msaving\u001B[39;00m\u001B[39m.\u001B[39;00m\u001B[39mlegacy\u001B[39;00m\u001B[39m.\u001B[39;00m\u001B[39msaved_model\u001B[39;00m\u001B[39m.\u001B[39;00m\u001B[39mutils\u001B[39;00m \u001B[39mimport\u001B[39;00m in_tf_saved_model_scope\n\u001B[1;32m     29\u001B[0m \u001B[39mfrom\u001B[39;00m \u001B[39mkeras\u001B[39;00m\u001B[39m.\u001B[39;00m\u001B[39msrc\u001B[39;00m\u001B[39m.\u001B[39;00m\u001B[39mutils\u001B[39;00m \u001B[39mimport\u001B[39;00m generic_utils\n\u001B[1;32m     31\u001B[0m \u001B[39m# isort: off\u001B[39;00m\n",
      "File \u001B[0;32m~/miniconda3/envs/torch/lib/python3.9/site-packages/keras/src/saving/legacy/saved_model/utils.py:30\u001B[0m\n\u001B[1;32m     28\u001B[0m \u001B[39mfrom\u001B[39;00m \u001B[39mkeras\u001B[39;00m\u001B[39m.\u001B[39;00m\u001B[39msrc\u001B[39;00m\u001B[39m.\u001B[39;00m\u001B[39mutils\u001B[39;00m \u001B[39mimport\u001B[39;00m tf_contextlib\n\u001B[1;32m     29\u001B[0m \u001B[39mfrom\u001B[39;00m \u001B[39mkeras\u001B[39;00m\u001B[39m.\u001B[39;00m\u001B[39msrc\u001B[39;00m\u001B[39m.\u001B[39;00m\u001B[39mutils\u001B[39;00m\u001B[39m.\u001B[39;00m\u001B[39mgeneric_utils\u001B[39;00m \u001B[39mimport\u001B[39;00m LazyLoader\n\u001B[0;32m---> 30\u001B[0m \u001B[39mfrom\u001B[39;00m \u001B[39mkeras\u001B[39;00m\u001B[39m.\u001B[39;00m\u001B[39msrc\u001B[39;00m\u001B[39m.\u001B[39;00m\u001B[39mutils\u001B[39;00m\u001B[39m.\u001B[39;00m\u001B[39mlayer_utils\u001B[39;00m \u001B[39mimport\u001B[39;00m CallFunctionSpec\n\u001B[1;32m     32\u001B[0m training_lib \u001B[39m=\u001B[39m LazyLoader(\u001B[39m\"\u001B[39m\u001B[39mtraining_lib\u001B[39m\u001B[39m\"\u001B[39m, \u001B[39mglobals\u001B[39m(), \u001B[39m\"\u001B[39m\u001B[39mkeras.src.engine.training\u001B[39m\u001B[39m\"\u001B[39m)\n\u001B[1;32m     35\u001B[0m \u001B[39mdef\u001B[39;00m \u001B[39muse_wrapped_call\u001B[39m(\n\u001B[1;32m     36\u001B[0m     layer, call_fn, call_spec, default_training_value\u001B[39m=\u001B[39m\u001B[39mNone\u001B[39;00m, return_method\u001B[39m=\u001B[39m\u001B[39mFalse\u001B[39;00m\n\u001B[1;32m     37\u001B[0m ):\n",
      "File \u001B[0;32m~/miniconda3/envs/torch/lib/python3.9/site-packages/keras/src/utils/layer_utils.py:26\u001B[0m\n\u001B[1;32m     23\u001B[0m \u001B[39mimport\u001B[39;00m \u001B[39mnumpy\u001B[39;00m \u001B[39mas\u001B[39;00m \u001B[39mnp\u001B[39;00m\n\u001B[1;32m     24\u001B[0m \u001B[39mimport\u001B[39;00m \u001B[39mtensorflow\u001B[39;00m\u001B[39m.\u001B[39;00m\u001B[39mcompat\u001B[39;00m\u001B[39m.\u001B[39;00m\u001B[39mv2\u001B[39;00m \u001B[39mas\u001B[39;00m \u001B[39mtf\u001B[39;00m\n\u001B[0;32m---> 26\u001B[0m \u001B[39mfrom\u001B[39;00m \u001B[39mkeras\u001B[39;00m\u001B[39m.\u001B[39;00m\u001B[39msrc\u001B[39;00m \u001B[39mimport\u001B[39;00m initializers\n\u001B[1;32m     27\u001B[0m \u001B[39mfrom\u001B[39;00m \u001B[39mkeras\u001B[39;00m\u001B[39m.\u001B[39;00m\u001B[39msrc\u001B[39;00m\u001B[39m.\u001B[39;00m\u001B[39mutils\u001B[39;00m \u001B[39mimport\u001B[39;00m io_utils\n\u001B[1;32m     29\u001B[0m \u001B[39m# isort: off\u001B[39;00m\n",
      "File \u001B[0;32m~/miniconda3/envs/torch/lib/python3.9/site-packages/keras/src/initializers/__init__.py:23\u001B[0m\n\u001B[1;32m     20\u001B[0m \u001B[39mimport\u001B[39;00m \u001B[39mtensorflow\u001B[39;00m\u001B[39m.\u001B[39;00m\u001B[39mcompat\u001B[39;00m\u001B[39m.\u001B[39;00m\u001B[39mv2\u001B[39;00m \u001B[39mas\u001B[39;00m \u001B[39mtf\u001B[39;00m\n\u001B[1;32m     22\u001B[0m \u001B[39mfrom\u001B[39;00m \u001B[39mkeras\u001B[39;00m\u001B[39m.\u001B[39;00m\u001B[39msrc\u001B[39;00m\u001B[39m.\u001B[39;00m\u001B[39minitializers\u001B[39;00m \u001B[39mimport\u001B[39;00m initializers\n\u001B[0;32m---> 23\u001B[0m \u001B[39mfrom\u001B[39;00m \u001B[39mkeras\u001B[39;00m\u001B[39m.\u001B[39;00m\u001B[39msrc\u001B[39;00m\u001B[39m.\u001B[39;00m\u001B[39minitializers\u001B[39;00m \u001B[39mimport\u001B[39;00m initializers_v1\n\u001B[1;32m     24\u001B[0m \u001B[39mfrom\u001B[39;00m \u001B[39mkeras\u001B[39;00m\u001B[39m.\u001B[39;00m\u001B[39msrc\u001B[39;00m\u001B[39m.\u001B[39;00m\u001B[39msaving\u001B[39;00m \u001B[39mimport\u001B[39;00m serialization_lib\n\u001B[1;32m     25\u001B[0m \u001B[39mfrom\u001B[39;00m \u001B[39mkeras\u001B[39;00m\u001B[39m.\u001B[39;00m\u001B[39msrc\u001B[39;00m\u001B[39m.\u001B[39;00m\u001B[39msaving\u001B[39;00m\u001B[39m.\u001B[39;00m\u001B[39mlegacy\u001B[39;00m \u001B[39mimport\u001B[39;00m serialization \u001B[39mas\u001B[39;00m legacy_serialization\n",
      "File \u001B[0;32m~/miniconda3/envs/torch/lib/python3.9/site-packages/keras/src/initializers/initializers_v1.py:32\u001B[0m\n\u001B[1;32m     29\u001B[0m _v1_glorot_uniform_initializer \u001B[39m=\u001B[39m tf\u001B[39m.\u001B[39mcompat\u001B[39m.\u001B[39mv1\u001B[39m.\u001B[39mglorot_uniform_initializer\n\u001B[1;32m     30\u001B[0m _v1_glorot_normal_initializer \u001B[39m=\u001B[39m tf\u001B[39m.\u001B[39mcompat\u001B[39m.\u001B[39mv1\u001B[39m.\u001B[39mglorot_normal_initializer\n\u001B[0;32m---> 32\u001B[0m keras_export(v1\u001B[39m=\u001B[39;49m[\u001B[39m\"\u001B[39;49m\u001B[39mkeras.initializers.Zeros\u001B[39;49m\u001B[39m\"\u001B[39;49m, \u001B[39m\"\u001B[39;49m\u001B[39mkeras.initializers.zeros\u001B[39;49m\u001B[39m\"\u001B[39;49m])(\n\u001B[1;32m     33\u001B[0m     _v1_zeros_initializer\n\u001B[1;32m     34\u001B[0m )\n\u001B[1;32m     35\u001B[0m keras_export(v1\u001B[39m=\u001B[39m[\u001B[39m\"\u001B[39m\u001B[39mkeras.initializers.Ones\u001B[39m\u001B[39m\"\u001B[39m, \u001B[39m\"\u001B[39m\u001B[39mkeras.initializers.ones\u001B[39m\u001B[39m\"\u001B[39m])(\n\u001B[1;32m     36\u001B[0m     _v1_ones_initializer\n\u001B[1;32m     37\u001B[0m )\n\u001B[1;32m     38\u001B[0m keras_export(v1\u001B[39m=\u001B[39m[\u001B[39m\"\u001B[39m\u001B[39mkeras.initializers.Constant\u001B[39m\u001B[39m\"\u001B[39m, \u001B[39m\"\u001B[39m\u001B[39mkeras.initializers.constant\u001B[39m\u001B[39m\"\u001B[39m])(\n\u001B[1;32m     39\u001B[0m     _v1_constant_initializer\n\u001B[1;32m     40\u001B[0m )\n",
      "File \u001B[0;32m~/miniconda3/envs/torch/lib/python3.9/site-packages/tensorflow/python/util/tf_export.py:348\u001B[0m, in \u001B[0;36mapi_export.__call__\u001B[0;34m(self, func)\u001B[0m\n\u001B[1;32m    345\u001B[0m   \u001B[39mdelattr\u001B[39m(undecorated_f, api_names_attr_v1)\n\u001B[1;32m    347\u001B[0m _, undecorated_func \u001B[39m=\u001B[39m tf_decorator\u001B[39m.\u001B[39munwrap(func)\n\u001B[0;32m--> 348\u001B[0m \u001B[39mself\u001B[39;49m\u001B[39m.\u001B[39;49mset_attr(undecorated_func, api_names_attr, \u001B[39mself\u001B[39;49m\u001B[39m.\u001B[39;49m_names)\n\u001B[1;32m    349\u001B[0m \u001B[39mself\u001B[39m\u001B[39m.\u001B[39mset_attr(undecorated_func, api_names_attr_v1, \u001B[39mself\u001B[39m\u001B[39m.\u001B[39m_names_v1)\n\u001B[1;32m    351\u001B[0m \u001B[39mfor\u001B[39;00m name \u001B[39min\u001B[39;00m \u001B[39mself\u001B[39m\u001B[39m.\u001B[39m_names:\n",
      "File \u001B[0;32m~/miniconda3/envs/torch/lib/python3.9/site-packages/tensorflow/python/util/tf_export.py:363\u001B[0m, in \u001B[0;36mapi_export.set_attr\u001B[0;34m(self, func, api_names_attr, names)\u001B[0m\n\u001B[1;32m    361\u001B[0m \u001B[39mif\u001B[39;00m api_names_attr \u001B[39min\u001B[39;00m func\u001B[39m.\u001B[39m\u001B[39m__dict__\u001B[39m:\n\u001B[1;32m    362\u001B[0m   \u001B[39mif\u001B[39;00m \u001B[39mnot\u001B[39;00m \u001B[39mself\u001B[39m\u001B[39m.\u001B[39m_allow_multiple_exports:\n\u001B[0;32m--> 363\u001B[0m     \u001B[39mraise\u001B[39;00m SymbolAlreadyExposedError(\n\u001B[1;32m    364\u001B[0m         \u001B[39m'\u001B[39m\u001B[39mSymbol \u001B[39m\u001B[39m%s\u001B[39;00m\u001B[39m is already exposed as \u001B[39m\u001B[39m%s\u001B[39;00m\u001B[39m.\u001B[39m\u001B[39m'\u001B[39m \u001B[39m%\u001B[39m\n\u001B[1;32m    365\u001B[0m         (func\u001B[39m.\u001B[39m\u001B[39m__name__\u001B[39m, \u001B[39mgetattr\u001B[39m(func, api_names_attr)))  \u001B[39m# pylint: disable=protected-access\u001B[39;00m\n\u001B[1;32m    366\u001B[0m \u001B[39msetattr\u001B[39m(func, api_names_attr, names)\n",
      "\u001B[0;31mSymbolAlreadyExposedError\u001B[0m: Symbol Zeros is already exposed as ()."
     ]
    }
   ],
   "source": [
    "from config import get_config\n",
    "cfg = get_config()\n",
    "# /Users/ahmedmostafa/from_eng_to_arabic_transformer_from_scratch/model.py\n",
    "cfg['model_folder'] = '..//Users/ahmedmostafa/from_eng_to_arabic_transformer_from_scratch/weights'\n",
    "cfg['tokenizer_file'] = '..//Users/ahmedmostafa/from_eng_to_arabic_transformer_from_scratch/vocab/tokenizer_{0}.json'\n",
    "cfg['batch_size'] = 24\n",
    "cfg['num_epochs'] = 100\n",
    "cfg['preload'] = None\n",
    "\n",
    "from train import train_model\n",
    "\n",
    "train_model(cfg)"
   ]
  },
  {
   "cell_type": "code",
   "execution_count": null,
   "id": "24f444c57ecb0fa2",
   "metadata": {},
   "outputs": [],
   "source": []
  },
  {
   "cell_type": "code",
   "execution_count": null,
   "id": "1aca106107e76b68",
   "metadata": {},
   "outputs": [],
   "source": []
  },
  {
   "cell_type": "code",
   "execution_count": null,
   "id": "e60c99af5039a596",
   "metadata": {},
   "outputs": [],
   "source": []
  },
  {
   "cell_type": "markdown",
   "id": "5a465eb454eed6f5",
   "metadata": {},
   "source": [
    "# Local Training"
   ]
  },
  {
   "cell_type": "code",
   "execution_count": null,
   "id": "b03850410d439751",
   "metadata": {},
   "outputs": [],
   "source": [
    "from config import get_config\n",
    "cfg = get_config()\n",
    "cfg['batch_size'] = 6\n",
    "cfg['preload'] = None\n",
    "cfg['num_epochs'] = 30\n",
    "\n",
    "from train import train_model\n",
    "\n",
    "train_model(cfg)"
   ]
  }
 ],
 "metadata": {
  "kernelspec": {
   "display_name": "Python 3.9 (torch)",
   "language": "python",
   "name": "pytorch"
  },
  "language_info": {
   "codemirror_mode": {
    "name": "ipython",
    "version": 3
   },
   "file_extension": ".py",
   "mimetype": "text/x-python",
   "name": "python",
   "nbconvert_exporter": "python",
   "pygments_lexer": "ipython3",
   "version": "3.9.18"
  }
 },
 "nbformat": 4,
 "nbformat_minor": 5
}
