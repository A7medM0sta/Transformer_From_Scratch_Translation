{
 "cells": [
  {
   "cell_type": "code",
   "execution_count": null,
   "id": "initial_id",
   "metadata": {
    "collapsed": true
   },
   "outputs": [],
   "source": [
    "%load_ext tensorboard\n",
    "!pip install datasets\n",
    "!pip install tokenizers\n",
    "!pip install torchmetrics"
   ]
  },
  {
   "metadata": {},
   "cell_type": "code",
   "outputs": [],
   "execution_count": null,
   "source": [
    "%%capture\n",
    "from google.colab import drvie\n",
    "drvie.mount('/content/drive')"
   ],
   "id": "e99ee1626661079a"
  },
  {
   "metadata": {},
   "cell_type": "code",
   "outputs": [],
   "execution_count": null,
   "source": "# git clone the repos name ",
   "id": "19e1af2d22663d3c"
  },
  {
   "metadata": {},
   "cell_type": "code",
   "outputs": [],
   "execution_count": null,
   "source": "%tenserboard --logdir runs",
   "id": "2a033d3149f900ff"
  },
  {
   "metadata": {},
   "cell_type": "code",
   "outputs": [],
   "execution_count": null,
   "source": [
    "from config import get_config\n",
    "cfg = get_config()\n",
    "cfg['model_folder'] = '..//drive/MyDrive/Models/pytorch-transformer/weights'\n",
    "cfg['tokenizer_file'] = '..//drive/MyDrive/Models/pytorch-transformer/vocab/tokenizer_{0}.json'\n",
    "cfg['batch_size'] = 24\n",
    "cfg['num_epochs'] = 100\n",
    "cfg['preload'] = None\n",
    "\n",
    "from train import train_model\n",
    "\n",
    "train_model(cfg)\n",
    "     "
   ],
   "id": "c0ef4cfdb1d57aff"
  },
  {
   "metadata": {},
   "cell_type": "code",
   "outputs": [],
   "execution_count": null,
   "source": "",
   "id": "24f444c57ecb0fa2"
  },
  {
   "metadata": {},
   "cell_type": "code",
   "outputs": [],
   "execution_count": null,
   "source": "",
   "id": "1aca106107e76b68"
  },
  {
   "metadata": {},
   "cell_type": "code",
   "outputs": [],
   "execution_count": null,
   "source": "",
   "id": "e60c99af5039a596"
  },
  {
   "metadata": {},
   "cell_type": "markdown",
   "source": "# Local Training",
   "id": "5a465eb454eed6f5"
  },
  {
   "metadata": {},
   "cell_type": "code",
   "outputs": [],
   "execution_count": null,
   "source": [
    "from config import get_config\n",
    "cfg = get_config()\n",
    "cfg['batch_size'] = 6\n",
    "cfg['preload'] = None\n",
    "cfg['num_epochs'] = 30\n",
    "\n",
    "from train import train_model\n",
    "\n",
    "train_model(cfg)"
   ],
   "id": "b03850410d439751"
  }
 ],
 "metadata": {
  "kernelspec": {
   "display_name": "Python 3",
   "language": "python",
   "name": "python3"
  },
  "language_info": {
   "codemirror_mode": {
    "name": "ipython",
    "version": 2
   },
   "file_extension": ".py",
   "mimetype": "text/x-python",
   "name": "python",
   "nbconvert_exporter": "python",
   "pygments_lexer": "ipython2",
   "version": "2.7.6"
  }
 },
 "nbformat": 4,
 "nbformat_minor": 5
}
